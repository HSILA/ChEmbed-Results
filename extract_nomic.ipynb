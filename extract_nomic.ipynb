{
 "cells": [
  {
   "cell_type": "markdown",
   "metadata": {},
   "source": [
    "### Extract nomic results for mteb v2"
   ]
  },
  {
   "cell_type": "markdown",
   "metadata": {},
   "source": [
    "First, clone the [embeddings-benchmark/results](https://github.com/embeddings-benchmark/results) GitHub repo to the current directory."
   ]
  },
  {
   "cell_type": "code",
   "execution_count": 12,
   "metadata": {},
   "outputs": [],
   "source": [
    "import os\n",
    "import shutil\n",
    "from utils import get_results"
   ]
  },
  {
   "cell_type": "code",
   "execution_count": 11,
   "metadata": {},
   "outputs": [
    {
     "name": "stdout",
     "output_type": "stream",
     "text": [
      "Found 41 common files\n",
      "Copied 41 files to mteb-v2/nomic-ai__nomic-embed-text-v1/nomic-ai__nomic-embed-text-v1/0759316f275aa0cb93a5b830973843ca66babcf5\n"
     ]
    }
   ],
   "source": [
    "# Simple extraction and copy from both folders\n",
    "def extract_and_copy():\n",
    "    # Paths\n",
    "    revision_dir = 'results/results/nomic-ai__nomic-embed-text-v1/0759316f275aa0cb93a5b830973843ca66babcf5'\n",
    "    external_dir = 'results/results/nomic-ai__nomic-embed-text-v1/external'\n",
    "    sample_dir = 'mteb-v2/run15-chemical-finetune-pair/epoch_0/no_revision_available'\n",
    "    target_dir = 'mteb-v2/nomic-ai__nomic-embed-text-v1/nomic-ai__nomic-embed-text-v1/0759316f275aa0cb93a5b830973843ca66babcf5'\n",
    "    \n",
    "    # Get all files\n",
    "    revision_files = [f for f in os.listdir(revision_dir) if f.endswith('.json') and f != 'model_meta.json']\n",
    "    external_files = [f for f in os.listdir(external_dir) if f.endswith('.json') and f != 'model_meta.json']\n",
    "    sample_files = [f for f in os.listdir(sample_dir) if f.endswith('.json') and f != 'model_meta.json']\n",
    "    \n",
    "    # Map files to their source\n",
    "    file_sources = {}\n",
    "    for f in revision_files:\n",
    "        file_sources[f] = revision_dir\n",
    "    for f in external_files:\n",
    "        if f not in file_sources:\n",
    "            file_sources[f] = external_dir\n",
    "    \n",
    "    # Find common files\n",
    "    common_files = [f for f in file_sources.keys() if f in sample_files]\n",
    "    \n",
    "    print(f\"Found {len(common_files)} common files\")\n",
    "    \n",
    "    # Create target directory\n",
    "    os.makedirs(target_dir, exist_ok=True)\n",
    "    \n",
    "    # Copy files\n",
    "    copied = 0\n",
    "    for filename in common_files:\n",
    "        source_path = os.path.join(file_sources[filename], filename)\n",
    "        target_path = os.path.join(target_dir, filename)\n",
    "        shutil.copy2(source_path, target_path)\n",
    "        copied += 1\n",
    "    \n",
    "    # Copy model_meta.json\n",
    "    for source_dir in [revision_dir, external_dir]:\n",
    "        meta_path = os.path.join(source_dir, 'model_meta.json')\n",
    "        if os.path.exists(meta_path):\n",
    "            shutil.copy2(meta_path, os.path.join(target_dir, 'model_meta.json'))\n",
    "            break\n",
    "    \n",
    "    print(f\"Copied {copied} files to {target_dir}\")\n",
    "    return target_dir\n",
    "\n",
    "# Run it\n",
    "result = extract_and_copy()\n"
   ]
  },
  {
   "cell_type": "code",
   "execution_count": 18,
   "metadata": {},
   "outputs": [],
   "source": [
    "path = 'mteb-v2/nomic-ai__nomic-embed-text-v1'\n",
    "results_df = get_results(path)\n",
    "mean_df = results_df.mean()\n",
    "\n",
    "results_df.to_csv(os.path.join(path, 'raw_scores.csv'))\n",
    "mean_df.to_csv(os.path.join(path, 'mean_scores.csv'))"
   ]
  },
  {
   "cell_type": "code",
   "execution_count": null,
   "metadata": {},
   "outputs": [],
   "source": []
  }
 ],
 "metadata": {
  "kernelspec": {
   "display_name": "venv",
   "language": "python",
   "name": "python3"
  },
  "language_info": {
   "codemirror_mode": {
    "name": "ipython",
    "version": 3
   },
   "file_extension": ".py",
   "mimetype": "text/x-python",
   "name": "python",
   "nbconvert_exporter": "python",
   "pygments_lexer": "ipython3",
   "version": "3.12.3"
  }
 },
 "nbformat": 4,
 "nbformat_minor": 2
}
